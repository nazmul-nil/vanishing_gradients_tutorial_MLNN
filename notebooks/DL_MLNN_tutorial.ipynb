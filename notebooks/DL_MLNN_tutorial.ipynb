{
 "cells": [
  {
   "cell_type": "markdown",
   "id": "358331a1-1190-4eb6-8f5a-87a4881d3c7f",
   "metadata": {},
   "source": [
    "# Vanishing and Exploding Gradients in Deep Learning"
   ]
  },
  {
   "cell_type": "code",
   "execution_count": 7,
   "id": "77dce24e-77fb-414a-a781-94cee83074bf",
   "metadata": {},
   "outputs": [],
   "source": [
    "# importing necessary libraries\n",
    "import numpy as np\n",
    "import tensorflow as tf\n",
    "from tensorflow.keras.models import Sequential\n",
    "from tensorflow.keras.layers import Dense\n",
    "from tensorflow.keras.layers import BatchNormalization"
   ]
  },
  {
   "cell_type": "code",
   "execution_count": null,
   "id": "dfead6a6-91fc-42a7-8884-c6369c3a4e16",
   "metadata": {},
   "outputs": [],
   "source": []
  }
 ],
 "metadata": {
  "kernelspec": {
   "display_name": "Python 3 (ipykernel)",
   "language": "python",
   "name": "python3"
  },
  "language_info": {
   "codemirror_mode": {
    "name": "ipython",
    "version": 3
   },
   "file_extension": ".py",
   "mimetype": "text/x-python",
   "name": "python",
   "nbconvert_exporter": "python",
   "pygments_lexer": "ipython3",
   "version": "3.12.4"
  }
 },
 "nbformat": 4,
 "nbformat_minor": 5
}
