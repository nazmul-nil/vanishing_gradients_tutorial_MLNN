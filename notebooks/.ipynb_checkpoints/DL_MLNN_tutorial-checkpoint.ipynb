{
 "cells": [
  {
   "cell_type": "markdown",
   "id": "358331a1-1190-4eb6-8f5a-87a4881d3c7f",
   "metadata": {},
   "source": [
    "# Vanishing and Exploding Gradients in Deep Learning"
   ]
  },
  {
   "cell_type": "code",
   "execution_count": 29,
   "id": "77dce24e-77fb-414a-a781-94cee83074bf",
   "metadata": {},
   "outputs": [],
   "source": [
    "# importing necessary libraries\n",
    "import numpy as np\n",
    "import matplotlib.pyplot as plt\n",
    "import tensorflow as tf\n",
    "from tensorflow.keras.models import Sequential\n",
    "from tensorflow.keras.layers import Dense\n",
    "from tensorflow.keras.layers import BatchNormalization"
   ]
  },
  {
   "cell_type": "code",
   "execution_count": 9,
   "id": "dfead6a6-91fc-42a7-8884-c6369c3a4e16",
   "metadata": {},
   "outputs": [
    {
     "name": "stderr",
     "output_type": "stream",
     "text": [
      "C:\\Users\\Nazm\\anaconda3\\Lib\\site-packages\\keras\\src\\layers\\core\\dense.py:87: UserWarning: Do not pass an `input_shape`/`input_dim` argument to a layer. When using Sequential models, prefer using an `Input(shape)` object as the first layer in the model instead.\n",
      "  super().__init__(activity_regularizer=activity_regularizer, **kwargs)\n"
     ]
    },
    {
     "name": "stdout",
     "output_type": "stream",
     "text": [
      "Epoch 1/5\n",
      "\u001b[1m32/32\u001b[0m \u001b[32m━━━━━━━━━━━━━━━━━━━━\u001b[0m\u001b[37m\u001b[0m \u001b[1m1s\u001b[0m 3ms/step - loss: 0.3535  \n",
      "Epoch 2/5\n",
      "\u001b[1m32/32\u001b[0m \u001b[32m━━━━━━━━━━━━━━━━━━━━\u001b[0m\u001b[37m\u001b[0m \u001b[1m0s\u001b[0m 3ms/step - loss: 0.0864\n",
      "Epoch 3/5\n",
      "\u001b[1m32/32\u001b[0m \u001b[32m━━━━━━━━━━━━━━━━━━━━\u001b[0m\u001b[37m\u001b[0m \u001b[1m0s\u001b[0m 3ms/step - loss: 0.0882\n",
      "Epoch 4/5\n",
      "\u001b[1m32/32\u001b[0m \u001b[32m━━━━━━━━━━━━━━━━━━━━\u001b[0m\u001b[37m\u001b[0m \u001b[1m0s\u001b[0m 3ms/step - loss: 0.0915\n",
      "Epoch 5/5\n",
      "\u001b[1m32/32\u001b[0m \u001b[32m━━━━━━━━━━━━━━━━━━━━\u001b[0m\u001b[37m\u001b[0m \u001b[1m0s\u001b[0m 3ms/step - loss: 0.0891\n"
     ]
    },
    {
     "data": {
      "text/plain": [
       "<keras.src.callbacks.history.History at 0x1bcc15e12e0>"
      ]
     },
     "execution_count": 9,
     "metadata": {},
     "output_type": "execute_result"
    }
   ],
   "source": [
    "# Create a deep neural network with Sigmoid activation\n",
    "model = Sequential([\n",
    "    Dense(100, activation='sigmoid', input_shape=(100,)),\n",
    "    *[Dense(100, activation='sigmoid') for _ in range(9)],  # Add 10 hidden layers\n",
    "    Dense(1)\n",
    "])\n",
    "\n",
    "# Compile the model\n",
    "model.compile(optimizer=tf.keras.optimizers.SGD(learning_rate=0.01), loss='mse')\n",
    "\n",
    "# Generate random data\n",
    "x = np.random.rand(1000, 100).astype(np.float32)  # 1000 samples, 100 features\n",
    "y = np.random.rand(1000, 1).astype(np.float32)    # 1000 samples, 1 target\n",
    "\n",
    "# Train the model\n",
    "model.fit(x, y, epochs=5, batch_size=32)"
   ]
  },
  {
   "cell_type": "code",
   "execution_count": 11,
   "id": "a8c676e8-315b-4f6e-a731-e78e5ec5a247",
   "metadata": {},
   "outputs": [
    {
     "name": "stdout",
     "output_type": "stream",
     "text": [
      "Epoch 1/5\n",
      "\u001b[1m32/32\u001b[0m \u001b[32m━━━━━━━━━━━━━━━━━━━━\u001b[0m\u001b[37m\u001b[0m \u001b[1m1s\u001b[0m 3ms/step - loss: nan \n",
      "Epoch 2/5\n",
      "\u001b[1m32/32\u001b[0m \u001b[32m━━━━━━━━━━━━━━━━━━━━\u001b[0m\u001b[37m\u001b[0m \u001b[1m0s\u001b[0m 3ms/step - loss: nan\n",
      "Epoch 3/5\n",
      "\u001b[1m32/32\u001b[0m \u001b[32m━━━━━━━━━━━━━━━━━━━━\u001b[0m\u001b[37m\u001b[0m \u001b[1m0s\u001b[0m 3ms/step - loss: nan\n",
      "Epoch 4/5\n",
      "\u001b[1m32/32\u001b[0m \u001b[32m━━━━━━━━━━━━━━━━━━━━\u001b[0m\u001b[37m\u001b[0m \u001b[1m0s\u001b[0m 3ms/step - loss: nan\n",
      "Epoch 5/5\n",
      "\u001b[1m32/32\u001b[0m \u001b[32m━━━━━━━━━━━━━━━━━━━━\u001b[0m\u001b[37m\u001b[0m \u001b[1m0s\u001b[0m 3ms/step - loss: nan\n"
     ]
    },
    {
     "data": {
      "text/plain": [
       "<keras.src.callbacks.history.History at 0x1bcc15e1340>"
      ]
     },
     "execution_count": 11,
     "metadata": {},
     "output_type": "execute_result"
    }
   ],
   "source": [
    "# Define a custom initializer with large weights\n",
    "large_weights_initializer = tf.keras.initializers.RandomUniform(minval=0.9, maxval=1.1)\n",
    "\n",
    "# Create a deep neural network with poor weight initialization\n",
    "model = Sequential([\n",
    "    Dense(100, kernel_initializer=large_weights_initializer, activation='relu', input_shape=(100,)),\n",
    "    *[Dense(100, kernel_initializer=large_weights_initializer, activation='relu') for _ in range(9)],\n",
    "    Dense(1)\n",
    "])\n",
    "\n",
    "# Compile and train (same as above)\n",
    "model.compile(optimizer=tf.keras.optimizers.SGD(learning_rate=0.01), loss='mse')\n",
    "model.fit(x, y, epochs=5, batch_size=32)"
   ]
  },
  {
   "cell_type": "code",
   "execution_count": 13,
   "id": "1e6d94a0-b381-4e11-9e01-e9fd59d2eb68",
   "metadata": {},
   "outputs": [
    {
     "name": "stdout",
     "output_type": "stream",
     "text": [
      "Epoch 1/5\n",
      "\u001b[1m32/32\u001b[0m \u001b[32m━━━━━━━━━━━━━━━━━━━━\u001b[0m\u001b[37m\u001b[0m \u001b[1m1s\u001b[0m 3ms/step - loss: 0.2288  \n",
      "Epoch 2/5\n",
      "\u001b[1m32/32\u001b[0m \u001b[32m━━━━━━━━━━━━━━━━━━━━\u001b[0m\u001b[37m\u001b[0m \u001b[1m0s\u001b[0m 3ms/step - loss: 0.0868\n",
      "Epoch 3/5\n",
      "\u001b[1m32/32\u001b[0m \u001b[32m━━━━━━━━━━━━━━━━━━━━\u001b[0m\u001b[37m\u001b[0m \u001b[1m0s\u001b[0m 3ms/step - loss: 0.0837\n",
      "Epoch 4/5\n",
      "\u001b[1m32/32\u001b[0m \u001b[32m━━━━━━━━━━━━━━━━━━━━\u001b[0m\u001b[37m\u001b[0m \u001b[1m0s\u001b[0m 3ms/step - loss: 0.0833\n",
      "Epoch 5/5\n",
      "\u001b[1m32/32\u001b[0m \u001b[32m━━━━━━━━━━━━━━━━━━━━\u001b[0m\u001b[37m\u001b[0m \u001b[1m0s\u001b[0m 3ms/step - loss: 0.0895\n"
     ]
    },
    {
     "data": {
      "text/plain": [
       "<keras.src.callbacks.history.History at 0x1bcc1bfa060>"
      ]
     },
     "execution_count": 13,
     "metadata": {},
     "output_type": "execute_result"
    }
   ],
   "source": [
    "# Replace Sigmoid activation with ReLU\n",
    "model = Sequential([\n",
    "    Dense(100, activation='relu', input_shape=(100,)),\n",
    "    *[Dense(100, activation='relu') for _ in range(9)],\n",
    "    Dense(1)\n",
    "])\n",
    "\n",
    "# Compile and train (same as above)\n",
    "model.compile(optimizer=tf.keras.optimizers.SGD(learning_rate=0.01), loss='mse')\n",
    "model.fit(x, y, epochs=5, batch_size=32)"
   ]
  },
  {
   "cell_type": "code",
   "execution_count": 15,
   "id": "617d655c-662b-45a3-8159-e56ea1df0432",
   "metadata": {},
   "outputs": [
    {
     "name": "stdout",
     "output_type": "stream",
     "text": [
      "Epoch 1/5\n",
      "\u001b[1m32/32\u001b[0m \u001b[32m━━━━━━━━━━━━━━━━━━━━\u001b[0m\u001b[37m\u001b[0m \u001b[1m1s\u001b[0m 3ms/step - loss: 0.2393  \n",
      "Epoch 2/5\n",
      "\u001b[1m32/32\u001b[0m \u001b[32m━━━━━━━━━━━━━━━━━━━━\u001b[0m\u001b[37m\u001b[0m \u001b[1m0s\u001b[0m 4ms/step - loss: 0.0950\n",
      "Epoch 3/5\n",
      "\u001b[1m32/32\u001b[0m \u001b[32m━━━━━━━━━━━━━━━━━━━━\u001b[0m\u001b[37m\u001b[0m \u001b[1m0s\u001b[0m 3ms/step - loss: 0.0844\n",
      "Epoch 4/5\n",
      "\u001b[1m32/32\u001b[0m \u001b[32m━━━━━━━━━━━━━━━━━━━━\u001b[0m\u001b[37m\u001b[0m \u001b[1m0s\u001b[0m 2ms/step - loss: 0.0854\n",
      "Epoch 5/5\n",
      "\u001b[1m32/32\u001b[0m \u001b[32m━━━━━━━━━━━━━━━━━━━━\u001b[0m\u001b[37m\u001b[0m \u001b[1m0s\u001b[0m 3ms/step - loss: 0.0832\n"
     ]
    },
    {
     "data": {
      "text/plain": [
       "<keras.src.callbacks.history.History at 0x1bcc3fefc20>"
      ]
     },
     "execution_count": 15,
     "metadata": {},
     "output_type": "execute_result"
    }
   ],
   "source": [
    "# Use Xavier Initialization (Glorot Uniform in TensorFlow)\n",
    "model = Sequential([\n",
    "    Dense(100, kernel_initializer='glorot_uniform', activation='relu', input_shape=(100,)),\n",
    "    *[Dense(100, kernel_initializer='glorot_uniform', activation='relu') for _ in range(9)],\n",
    "    Dense(1)\n",
    "])\n",
    "\n",
    "# Compile and train (same as above)\n",
    "model.compile(optimizer=tf.keras.optimizers.SGD(learning_rate=0.01), loss='mse')\n",
    "model.fit(x, y, epochs=5, batch_size=32)"
   ]
  },
  {
   "cell_type": "code",
   "execution_count": 17,
   "id": "19a88432-d616-44b5-9b9f-3899d2e6dd8c",
   "metadata": {},
   "outputs": [
    {
     "name": "stdout",
     "output_type": "stream",
     "text": [
      "Epoch 1/5\n",
      "\u001b[1m32/32\u001b[0m \u001b[32m━━━━━━━━━━━━━━━━━━━━\u001b[0m\u001b[37m\u001b[0m \u001b[1m2s\u001b[0m 5ms/step - loss: 1.3772\n",
      "Epoch 2/5\n",
      "\u001b[1m32/32\u001b[0m \u001b[32m━━━━━━━━━━━━━━━━━━━━\u001b[0m\u001b[37m\u001b[0m \u001b[1m0s\u001b[0m 5ms/step - loss: 0.4683\n",
      "Epoch 3/5\n",
      "\u001b[1m32/32\u001b[0m \u001b[32m━━━━━━━━━━━━━━━━━━━━\u001b[0m\u001b[37m\u001b[0m \u001b[1m0s\u001b[0m 4ms/step - loss: 0.2541\n",
      "Epoch 4/5\n",
      "\u001b[1m32/32\u001b[0m \u001b[32m━━━━━━━━━━━━━━━━━━━━\u001b[0m\u001b[37m\u001b[0m \u001b[1m0s\u001b[0m 4ms/step - loss: 0.2226\n",
      "Epoch 5/5\n",
      "\u001b[1m32/32\u001b[0m \u001b[32m━━━━━━━━━━━━━━━━━━━━\u001b[0m\u001b[37m\u001b[0m \u001b[1m0s\u001b[0m 4ms/step - loss: 0.1819\n"
     ]
    },
    {
     "data": {
      "text/plain": [
       "<keras.src.callbacks.history.History at 0x1bcc1bd0170>"
      ]
     },
     "execution_count": 17,
     "metadata": {},
     "output_type": "execute_result"
    }
   ],
   "source": [
    "# Add Batch Normalization to stabilize gradients\n",
    "model = Sequential([\n",
    "    Dense(100, activation='relu', input_shape=(100,)),\n",
    "    BatchNormalization(),\n",
    "    *[Sequential([Dense(100, activation='relu'), BatchNormalization()]) for _ in range(9)],\n",
    "    Dense(1)\n",
    "])\n",
    "\n",
    "# Compile and train\n",
    "model.compile(optimizer=tf.keras.optimizers.SGD(learning_rate=0.01), loss='mse')\n",
    "model.fit(x, y, epochs=5, batch_size=32)"
   ]
  },
  {
   "cell_type": "code",
   "execution_count": 19,
   "id": "bdb8bf1f-c625-46f5-b699-13fe381d8cae",
   "metadata": {},
   "outputs": [
    {
     "name": "stdout",
     "output_type": "stream",
     "text": [
      "Epoch 1/5\n",
      "\u001b[1m32/32\u001b[0m \u001b[32m━━━━━━━━━━━━━━━━━━━━\u001b[0m\u001b[37m\u001b[0m \u001b[1m4s\u001b[0m 4ms/step - loss: 0.1488\n",
      "Epoch 2/5\n",
      "\u001b[1m32/32\u001b[0m \u001b[32m━━━━━━━━━━━━━━━━━━━━\u001b[0m\u001b[37m\u001b[0m \u001b[1m0s\u001b[0m 4ms/step - loss: 0.1306\n",
      "Epoch 3/5\n",
      "\u001b[1m32/32\u001b[0m \u001b[32m━━━━━━━━━━━━━━━━━━━━\u001b[0m\u001b[37m\u001b[0m \u001b[1m0s\u001b[0m 5ms/step - loss: 0.1198\n",
      "Epoch 4/5\n",
      "\u001b[1m32/32\u001b[0m \u001b[32m━━━━━━━━━━━━━━━━━━━━\u001b[0m\u001b[37m\u001b[0m \u001b[1m0s\u001b[0m 5ms/step - loss: 0.1090\n",
      "Epoch 5/5\n",
      "\u001b[1m32/32\u001b[0m \u001b[32m━━━━━━━━━━━━━━━━━━━━\u001b[0m\u001b[37m\u001b[0m \u001b[1m0s\u001b[0m 4ms/step - loss: 0.1140\n"
     ]
    },
    {
     "data": {
      "text/plain": [
       "<keras.src.callbacks.history.History at 0x1bcc52fa060>"
      ]
     },
     "execution_count": 19,
     "metadata": {},
     "output_type": "execute_result"
    }
   ],
   "source": [
    "# Use SGD with gradient clipping\n",
    "optimizer = tf.keras.optimizers.SGD(learning_rate=0.01, clipnorm=1.0)\n",
    "\n",
    "# Compile the model with the custom optimizer\n",
    "model.compile(optimizer=optimizer, loss='mse')\n",
    "\n",
    "# Train the model\n",
    "model.fit(x, y, epochs=5, batch_size=32)"
   ]
  },
  {
   "cell_type": "code",
   "execution_count": 21,
   "id": "9f2f8847-cffe-4385-be5d-5e89bbe2fd43",
   "metadata": {},
   "outputs": [
    {
     "name": "stdout",
     "output_type": "stream",
     "text": [
      "Epoch 1/5\n",
      "\u001b[1m32/32\u001b[0m \u001b[32m━━━━━━━━━━━━━━━━━━━━\u001b[0m\u001b[37m\u001b[0m \u001b[1m1s\u001b[0m 3ms/step - loss: 0.1902  \n",
      "Epoch 2/5\n",
      "\u001b[1m32/32\u001b[0m \u001b[32m━━━━━━━━━━━━━━━━━━━━\u001b[0m\u001b[37m\u001b[0m \u001b[1m0s\u001b[0m 3ms/step - loss: 0.0806\n",
      "Epoch 3/5\n",
      "\u001b[1m32/32\u001b[0m \u001b[32m━━━━━━━━━━━━━━━━━━━━\u001b[0m\u001b[37m\u001b[0m \u001b[1m0s\u001b[0m 3ms/step - loss: 0.0807\n",
      "Epoch 4/5\n",
      "\u001b[1m32/32\u001b[0m \u001b[32m━━━━━━━━━━━━━━━━━━━━\u001b[0m\u001b[37m\u001b[0m \u001b[1m0s\u001b[0m 3ms/step - loss: 0.0765\n",
      "Epoch 5/5\n",
      "\u001b[1m32/32\u001b[0m \u001b[32m━━━━━━━━━━━━━━━━━━━━\u001b[0m\u001b[37m\u001b[0m \u001b[1m0s\u001b[0m 3ms/step - loss: 0.0787\n"
     ]
    },
    {
     "data": {
      "text/plain": [
       "<keras.src.callbacks.history.History at 0x1bcc52fbb30>"
      ]
     },
     "execution_count": 21,
     "metadata": {},
     "output_type": "execute_result"
    }
   ],
   "source": [
    "# Generate random data\n",
    "x = np.random.rand(1000, 100).astype(np.float32)\n",
    "y = np.random.rand(1000, 1).astype(np.float32)\n",
    "\n",
    "# Check for missing or invalid data\n",
    "x = np.nan_to_num(x)\n",
    "y = np.nan_to_num(y)\n",
    "\n",
    "# Create a deep neural network\n",
    "model = Sequential([\n",
    "    Dense(100, activation='relu', input_shape=(100,)),\n",
    "    *[Dense(100, activation='relu') for _ in range(9)],\n",
    "    Dense(1)\n",
    "])\n",
    "\n",
    "# Compile the model\n",
    "model.compile(optimizer=tf.keras.optimizers.SGD(learning_rate=0.01), loss='mse')\n",
    "\n",
    "# Train the model\n",
    "model.fit(x, y, epochs=5, batch_size=32)"
   ]
  },
  {
   "cell_type": "code",
   "execution_count": 23,
   "id": "c08a0fa7-200f-4245-8225-b559754ae7d7",
   "metadata": {},
   "outputs": [],
   "source": [
    "class GradientLogger(tf.keras.callbacks.Callback):\n",
    "    def __init__(self, x_data, y_data):\n",
    "        super().__init__()\n",
    "        self.x_data = x_data\n",
    "        self.y_data = y_data\n",
    "\n",
    "    def on_train_batch_end(self, batch, logs=None):\n",
    "        # Use GradientTape to compute gradients\n",
    "        with tf.GradientTape() as tape:\n",
    "            predictions = self.model(self.x_data, training=True)\n",
    "            loss = self.model.compiled_loss(self.y_data, predictions)\n",
    "\n",
    "        # Compute gradients\n",
    "        gradients = tape.gradient(loss, self.model.trainable_weights)\n",
    "        \n",
    "        # Log gradient norms\n",
    "        gradient_norms = [tf.norm(g).numpy() for g in gradients if g is not None]\n",
    "        print(f\"Batch {batch + 1}, Gradient Norms: {gradient_norms}\")"
   ]
  },
  {
   "cell_type": "code",
   "execution_count": 25,
   "id": "0e3dea35-fe34-4544-a8dc-140e933b4dc5",
   "metadata": {},
   "outputs": [
    {
     "name": "stdout",
     "output_type": "stream",
     "text": [
      "Batch 1, Gradient Norms: [0.047103215, 0.0093542915, 0.069715105, 0.019688725, 0.09451063, 0.03446611, 0.107869186, 0.056574743, 0.115154035, 0.0894648, 0.10504029, 0.14160638, 0.09447721, 0.20570806, 0.13077965, 0.33136943, 0.15247189, 0.52818507, 0.18230234, 0.8637111, 0.12196019, 0.96604615]\n",
      "\u001b[1m 1/32\u001b[0m \u001b[37m━━━━━━━━━━━━━━━━━━━━\u001b[0m \u001b[1m21s\u001b[0m 691ms/step - loss: 0.3486Batch 2, Gradient Norms: [0.046901777, 0.009319054, 0.06934904, 0.019580167, 0.092391565, 0.03367134, 0.10615823, 0.055664107, 0.11422431, 0.08874974, 0.10286663, 0.1383263, 0.09023723, 0.19584756, 0.1198422, 0.30257463, 0.14238971, 0.49155626, 0.17214249, 0.80760974, 0.11909158, 0.9211229]\n",
      "\u001b[1m 2/32\u001b[0m \u001b[32m━\u001b[0m\u001b[37m━━━━━━━━━━━━━━━━━━━\u001b[0m \u001b[1m1s\u001b[0m 55ms/step - loss: 0.3269  Batch 3, Gradient Norms: [0.04574229, 0.009083722, 0.06771098, 0.0191128, 0.08920476, 0.032499313, 0.104056485, 0.054533325, 0.114040285, 0.08854817, 0.10049369, 0.13471006, 0.08691463, 0.18771416, 0.111925595, 0.28100997, 0.1348105, 0.46235326, 0.1639867, 0.7586493, 0.11813552, 0.88080406]\n",
      "\u001b[1m 3/32\u001b[0m \u001b[32m━\u001b[0m\u001b[37m━━━━━━━━━━━━━━━━━━━\u001b[0m \u001b[1m1s\u001b[0m 57ms/step - loss: 0.3160"
     ]
    },
    {
     "name": "stderr",
     "output_type": "stream",
     "text": [
      "C:\\Users\\Nazm\\anaconda3\\Lib\\site-packages\\keras\\src\\backend\\tensorflow\\trainer.py:664: UserWarning: `model.compiled_loss()` is deprecated. Instead, use `model.compute_loss(x, y, y_pred, sample_weight, training)`.\n",
      "  warnings.warn(\n"
     ]
    },
    {
     "name": "stdout",
     "output_type": "stream",
     "text": [
      "Batch 4, Gradient Norms: [0.046156216, 0.009169538, 0.0670509, 0.018928315, 0.08724715, 0.03176359, 0.101702005, 0.053343486, 0.11349364, 0.08828586, 0.09816488, 0.13154086, 0.08412038, 0.18111712, 0.105752684, 0.2640815, 0.12780964, 0.43450078, 0.15624909, 0.71015793, 0.11808753, 0.84125435]\n",
      "\u001b[1m 4/32\u001b[0m \u001b[32m━━\u001b[0m\u001b[37m━━━━━━━━━━━━━━━━━━\u001b[0m \u001b[1m1s\u001b[0m 56ms/step - loss: 0.3071Batch 5, Gradient Norms: [0.04682733, 0.009313563, 0.0665175, 0.018806089, 0.08464438, 0.030870795, 0.09960426, 0.052405532, 0.1127078, 0.08784697, 0.09446708, 0.12657191, 0.0801368, 0.17197484, 0.09696569, 0.24009463, 0.11708115, 0.39194018, 0.14615418, 0.6451067, 0.11917201, 0.7926223]\n",
      "\u001b[1m 5/32\u001b[0m \u001b[32m━━━\u001b[0m\u001b[37m━━━━━━━━━━━━━━━━━\u001b[0m \u001b[1m1s\u001b[0m 56ms/step - loss: 0.3044Batch 6, Gradient Norms: [0.048874937, 0.009738891, 0.066031255, 0.018688485, 0.082840964, 0.030267365, 0.09919827, 0.05229637, 0.11263585, 0.08785116, 0.09249104, 0.12371989, 0.07822479, 0.16704352, 0.09043642, 0.22204226, 0.10906567, 0.35979903, 0.13875706, 0.5957383, 0.12064017, 0.7522944]\n",
      "\u001b[1m 6/32\u001b[0m \u001b[32m━━━\u001b[0m\u001b[37m━━━━━━━━━━━━━━━━━\u001b[0m \u001b[1m1s\u001b[0m 56ms/step - loss: 0.3021Batch 7, Gradient Norms: [0.04988205, 0.009952832, 0.06518162, 0.018465314, 0.08023129, 0.029356869, 0.09821107, 0.051795967, 0.11161381, 0.086880766, 0.09073682, 0.12095607, 0.07694803, 0.16333753, 0.086582564, 0.21060029, 0.103639, 0.33674616, 0.13430853, 0.5589656, 0.12222315, 0.715013]\n",
      "\u001b[1m 7/32\u001b[0m \u001b[32m━━━━\u001b[0m\u001b[37m━━━━━━━━━━━━━━━━\u001b[0m \u001b[1m1s\u001b[0m 56ms/step - loss: 0.2997Batch 8, Gradient Norms: [0.050689675, 0.0101179015, 0.064418904, 0.018272284, 0.078177586, 0.028662305, 0.09643797, 0.050886832, 0.10776284, 0.08373468, 0.087211184, 0.11588654, 0.07453159, 0.15701213, 0.08320632, 0.19972765, 0.09957456, 0.31683415, 0.13078107, 0.52391887, 0.12386146, 0.6751362]\n",
      "\u001b[1m 8/32\u001b[0m \u001b[32m━━━━━\u001b[0m\u001b[37m━━━━━━━━━━━━━━━\u001b[0m \u001b[1m1s\u001b[0m 56ms/step - loss: 0.2977Batch 9, Gradient Norms: [0.051494796, 0.010282744, 0.064740375, 0.018370036, 0.07762747, 0.028464388, 0.0958279, 0.05052471, 0.10648727, 0.08262646, 0.085615896, 0.113395855, 0.07346125, 0.1537553, 0.08121092, 0.19303599, 0.09741164, 0.30516586, 0.12853757, 0.5015632, 0.124683335, 0.64936674]\n",
      "Batch 10, Gradient Norms: [0.051831197, 0.010348124, 0.06446699, 0.018285953, 0.075781755, 0.027761308, 0.09420175, 0.049605098, 0.1037403, 0.080268905, 0.08343027, 0.10990445, 0.07182119, 0.14892799, 0.07879021, 0.18462375, 0.09476146, 0.29081598, 0.12547095, 0.4728395, 0.12515096, 0.6135962]\n",
      "\u001b[1m10/32\u001b[0m \u001b[32m━━━━━━\u001b[0m\u001b[37m━━━━━━━━━━━━━━\u001b[0m \u001b[1m1s\u001b[0m 54ms/step - loss: 0.2918Batch 11, Gradient Norms: [0.05169671, 0.01032441, 0.063271016, 0.017942065, 0.07407552, 0.02712629, 0.091919966, 0.048354372, 0.100494444, 0.077599935, 0.080657735, 0.105839506, 0.06980057, 0.14365466, 0.07638729, 0.17688733, 0.092816144, 0.2797904, 0.12310387, 0.45083436, 0.12509716, 0.5852306]\n",
      "\u001b[1m11/32\u001b[0m \u001b[32m━━━━━━\u001b[0m\u001b[37m━━━━━━━━━━━━━━\u001b[0m \u001b[1m1s\u001b[0m 54ms/step - loss: 0.2888Batch 12, Gradient Norms: [0.051267542, 0.010239956, 0.062072083, 0.01759799, 0.072306365, 0.026479805, 0.08955966, 0.047083803, 0.09754353, 0.07514206, 0.077971116, 0.10179848, 0.06803641, 0.13870342, 0.0741175, 0.16936927, 0.090460695, 0.2673752, 0.12003122, 0.4260221, 0.12444617, 0.55318546]\n",
      "\u001b[1m12/32\u001b[0m \u001b[32m━━━━━━━\u001b[0m\u001b[37m━━━━━━━━━━━━━\u001b[0m \u001b[1m1s\u001b[0m 55ms/step - loss: 0.2858Batch 13, Gradient Norms: [0.051395033, 0.010266765, 0.061718628, 0.01749229, 0.07157895, 0.02620668, 0.088626415, 0.04656417, 0.09618999, 0.07400656, 0.07659993, 0.09979207, 0.067063935, 0.13614486, 0.072617054, 0.16498874, 0.08888372, 0.2602489, 0.11825161, 0.413174, 0.12385763, 0.5365516]\n",
      "Batch 14, Gradient Norms: [0.05057544, 0.0101056155, 0.060114026, 0.017038494, 0.069814645, 0.025553046, 0.08688127, 0.045612536, 0.094451405, 0.07254477, 0.07524397, 0.09772157, 0.066028714, 0.13328637, 0.07135548, 0.16085011, 0.087535426, 0.25340208, 0.11662295, 0.40077963, 0.12317858, 0.52018034]\n",
      "\u001b[1m14/32\u001b[0m \u001b[32m━━━━━━━━\u001b[0m\u001b[37m━━━━━━━━━━━━\u001b[0m \u001b[1m0s\u001b[0m 53ms/step - loss: 0.2789Batch 15, Gradient Norms: [0.049338907, 0.009857672, 0.0582392, 0.016505416, 0.067348674, 0.02463935, 0.083849795, 0.043978777, 0.09133331, 0.07001847, 0.07288226, 0.094351545, 0.064591564, 0.12953442, 0.06983885, 0.15587167, 0.08592597, 0.24546747, 0.11506998, 0.3878739, 0.12233607, 0.50168306]\n",
      "Batch 16, Gradient Norms: [0.04865023, 0.009722616, 0.05681182, 0.01609882, 0.06500678, 0.023767862, 0.08089915, 0.042381972, 0.08761617, 0.06702667, 0.0697866, 0.08992877, 0.06252706, 0.124400966, 0.06770532, 0.14923017, 0.083745204, 0.2350387, 0.112343386, 0.36905307, 0.120768584, 0.47645545]\n",
      "\u001b[1m16/32\u001b[0m \u001b[32m━━━━━━━━━━\u001b[0m\u001b[37m━━━━━━━━━━\u001b[0m \u001b[1m0s\u001b[0m 52ms/step - loss: 0.2719Batch 17, Gradient Norms: [0.047251545, 0.009444016, 0.054770466, 0.015517373, 0.061901327, 0.02261406, 0.07731338, 0.040449772, 0.084188744, 0.064279184, 0.066995345, 0.08596505, 0.0606938, 0.11973499, 0.06570948, 0.1430652, 0.08135141, 0.22448908, 0.10978104, 0.3521859, 0.11894642, 0.45351255]\n",
      "Batch 18, Gradient Norms: [0.046296235, 0.009253297, 0.053290952, 0.015085999, 0.060130198, 0.021938447, 0.07526229, 0.039307203, 0.08182627, 0.06234382, 0.065174386, 0.08329387, 0.059277855, 0.11604317, 0.06391148, 0.13754593, 0.07892251, 0.21440966, 0.10643459, 0.33387285, 0.11674472, 0.4308592]\n",
      "\u001b[1m18/32\u001b[0m \u001b[32m━━━━━━━━━━━\u001b[0m\u001b[37m━━━━━━━━━\u001b[0m \u001b[1m0s\u001b[0m 51ms/step - loss: 0.2653Batch 19, Gradient Norms: [0.04526098, 0.009048049, 0.051429007, 0.01456224, 0.057893507, 0.02111523, 0.07236806, 0.037758436, 0.078700796, 0.05985698, 0.0626656, 0.07976409, 0.057085887, 0.11098418, 0.061514255, 0.13107914, 0.07631977, 0.20437798, 0.10331802, 0.3173859, 0.11424957, 0.4089945]\n",
      "Batch 20, Gradient Norms: [0.04351114, 0.008696748, 0.049213924, 0.013924044, 0.055548266, 0.020241331, 0.06966923, 0.0362977, 0.07576685, 0.057503127, 0.060470108, 0.07666756, 0.055061143, 0.106205374, 0.059542187, 0.12540655, 0.073990256, 0.19498177, 0.09996274, 0.30042186, 0.111383215, 0.3867696]\n",
      "\u001b[1m20/32\u001b[0m \u001b[32m━━━━━━━━━━━━\u001b[0m\u001b[37m━━━━━━━━\u001b[0m \u001b[1m0s\u001b[0m 50ms/step - loss: 0.2591Batch 21, Gradient Norms: [0.04259635, 0.008512889, 0.04799803, 0.013577261, 0.05405813, 0.019684922, 0.06771082, 0.03523848, 0.07380735, 0.055930734, 0.05891007, 0.07446276, 0.053870644, 0.1033288, 0.058277603, 0.121800005, 0.07248164, 0.18913805, 0.09802185, 0.2907003, 0.109601, 0.37375373]\n",
      "Batch 22, Gradient Norms: [0.041469827, 0.008286598, 0.04652518, 0.013161424, 0.052275766, 0.019033374, 0.06576365, 0.03420478, 0.07165528, 0.05422749, 0.057082657, 0.071972184, 0.05237213, 0.09997763, 0.056582347, 0.11728316, 0.07045035, 0.18182012, 0.09550182, 0.27893782, 0.10721042, 0.3581167]\n",
      "\u001b[1m22/32\u001b[0m \u001b[32m━━━━━━━━━━━━━\u001b[0m\u001b[37m━━━━━━━\u001b[0m \u001b[1m0s\u001b[0m 50ms/step - loss: 0.2534Batch 23, Gradient Norms: [0.03958287, 0.0079078935, 0.044312697, 0.012531969, 0.04968647, 0.018071882, 0.06244404, 0.03242029, 0.06795614, 0.051304784, 0.054388516, 0.06824871, 0.050097596, 0.0948378, 0.054311655, 0.111249745, 0.06770659, 0.17197701, 0.091980465, 0.2629153, 0.10368125, 0.3364156]\n",
      "Batch 24, Gradient Norms: [0.037908494, 0.007571093, 0.042256743, 0.011942241, 0.047220174, 0.017165909, 0.059419163, 0.030808004, 0.06508514, 0.04900688, 0.05192917, 0.06485297, 0.047992617, 0.09005919, 0.05193379, 0.10518659, 0.06477638, 0.16207953, 0.08794197, 0.24642442, 0.09981295, 0.31534898]\n",
      "\u001b[1m24/32\u001b[0m \u001b[32m━━━━━━━━━━━━━━━\u001b[0m\u001b[37m━━━━━\u001b[0m \u001b[1m0s\u001b[0m 50ms/step - loss: 0.2482Batch 25, Gradient Norms: [0.036907278, 0.007371818, 0.040951964, 0.011570548, 0.045887344, 0.016672164, 0.057551876, 0.029804539, 0.063013494, 0.04738885, 0.05026662, 0.062629856, 0.046657383, 0.08714184, 0.050499838, 0.10159349, 0.0629029, 0.15594251, 0.0851659, 0.23554482, 0.09711905, 0.30160028]\n",
      "Batch 26, Gradient Norms: [0.036202792, 0.0072299824, 0.04017166, 0.011346156, 0.04493161, 0.016317539, 0.056150977, 0.029065037, 0.061480086, 0.04619875, 0.04920406, 0.06121406, 0.046048693, 0.0857678, 0.049805973, 0.09979451, 0.062091727, 0.15311396, 0.08423605, 0.23132457, 0.09593796, 0.29541948]\n",
      "\u001b[1m26/32\u001b[0m \u001b[32m━━━━━━━━━━━━━━━━\u001b[0m\u001b[37m━━━━\u001b[0m \u001b[1m0s\u001b[0m 49ms/step - loss: 0.2433Batch 27, Gradient Norms: [0.0347782, 0.006945825, 0.038620375, 0.010905418, 0.043200087, 0.015685342, 0.054102343, 0.027987493, 0.059476513, 0.044643044, 0.04780788, 0.059315756, 0.044946585, 0.08329836, 0.048590634, 0.09670617, 0.060163826, 0.14699197, 0.08161272, 0.22136708, 0.09313881, 0.2820468]\n",
      "Batch 28, Gradient Norms: [0.033512652, 0.0066900807, 0.036861967, 0.010403501, 0.04126172, 0.014978741, 0.051803112, 0.026790107, 0.05746079, 0.043065697, 0.046197888, 0.057133444, 0.043560807, 0.08025694, 0.04654005, 0.091930404, 0.057496578, 0.13902892, 0.07802095, 0.20863129, 0.08947904, 0.26570076]\n",
      "\u001b[1m28/32\u001b[0m \u001b[32m━━━━━━━━━━━━━━━━━\u001b[0m\u001b[37m━━━\u001b[0m \u001b[1m0s\u001b[0m 49ms/step - loss: 0.2386Batch 29, Gradient Norms: [0.031775773, 0.0063411533, 0.03499573, 0.009873613, 0.039093077, 0.014193903, 0.049023144, 0.02532862, 0.054633528, 0.04088429, 0.0439388, 0.05415347, 0.04145384, 0.07587614, 0.044309095, 0.08676264, 0.054448187, 0.13013253, 0.07381325, 0.1942444, 0.08517143, 0.24756384]\n",
      "\u001b[1m29/32\u001b[0m \u001b[32m━━━━━━━━━━━━━━━━━━\u001b[0m\u001b[37m━━\u001b[0m \u001b[1m0s\u001b[0m 49ms/step - loss: 0.2364Batch 30, Gradient Norms: [0.03124566, 0.006235354, 0.03437651, 0.009700498, 0.03836441, 0.013924951, 0.047851462, 0.024710756, 0.0531691, 0.03976859, 0.042842105, 0.05274343, 0.040541857, 0.07404187, 0.043377727, 0.08465431, 0.05335221, 0.12695147, 0.07233976, 0.18929411, 0.083590694, 0.24115631]\n",
      "\u001b[1m30/32\u001b[0m \u001b[32m━━━━━━━━━━━━━━━━━━\u001b[0m\u001b[37m━━\u001b[0m \u001b[1m0s\u001b[0m 50ms/step - loss: 0.2343Batch 31, Gradient Norms: [0.02966288, 0.0059172693, 0.032610174, 0.009191599, 0.036033783, 0.013058824, 0.044902343, 0.023151664, 0.049700983, 0.037098773, 0.040095106, 0.049139045, 0.038141735, 0.069154404, 0.040758375, 0.07875732, 0.050158218, 0.11785272, 0.0679848, 0.17487182, 0.0787601, 0.22210671]\n",
      "\u001b[1m31/32\u001b[0m \u001b[32m━━━━━━━━━━━━━━━━━━━\u001b[0m\u001b[37m━\u001b[0m \u001b[1m0s\u001b[0m 50ms/step - loss: 0.2322Batch 32, Gradient Norms: [0.027531667, 0.0054886173, 0.030096497, 0.008482278, 0.03308823, 0.011998584, 0.04109556, 0.021165857, 0.04551623, 0.033903483, 0.036886744, 0.044978403, 0.03538844, 0.063638374, 0.03804592, 0.07261736, 0.046705946, 0.10808977, 0.06333085, 0.15973169, 0.07336538, 0.2020163]\n",
      "\u001b[1m32/32\u001b[0m \u001b[32m━━━━━━━━━━━━━━━━━━━━\u001b[0m\u001b[37m\u001b[0m \u001b[1m2s\u001b[0m 51ms/step - loss: 0.2284\n"
     ]
    },
    {
     "data": {
      "text/plain": [
       "<keras.src.callbacks.history.History at 0x1bcc7c748f0>"
      ]
     },
     "execution_count": 25,
     "metadata": {},
     "output_type": "execute_result"
    }
   ],
   "source": [
    "# Generate synthetic data\n",
    "x = np.random.rand(1000, 100).astype(np.float32)\n",
    "y = np.random.rand(1000, 1).astype(np.float32)\n",
    "\n",
    "# Define the deep neural network\n",
    "model = Sequential([\n",
    "    Dense(100, activation='relu', input_shape=(100,)),\n",
    "    *[Dense(100, activation='relu') for _ in range(9)],\n",
    "    Dense(1)\n",
    "])\n",
    "\n",
    "# Compile the model\n",
    "model.compile(optimizer=tf.keras.optimizers.SGD(learning_rate=0.01), loss='mse')\n",
    "\n",
    "# Initialize the GradientLogger with the data\n",
    "gradient_logger = GradientLogger(x, y)\n",
    "\n",
    "# Train the model\n",
    "model.fit(x, y, epochs=1, batch_size=32, callbacks=[gradient_logger])"
   ]
  },
  {
   "cell_type": "code",
   "execution_count": 31,
   "id": "cc19a114-ddf6-45ad-860a-906e517f7c73",
   "metadata": {},
   "outputs": [
    {
     "data": {
      "image/png": "[encoded data removed]",
      "text/plain": [
       "<Figure size 1200x600 with 2 Axes>"
      ]
     },
     "metadata": {},
     "output_type": "display_data"
    }
   ],
   "source": [
    "# Create a figure for the plots\n",
    "fig, axes = plt.subplots(1, 2, figsize=(12, 6))\n",
    "\n",
    "# Data for vanishing gradients\n",
    "layers = np.arange(1, 11)  # Layers from 1 to 10\n",
    "vanishing_gradients = np.exp(-layers)  # Exponentially decreasing gradients\n",
    "\n",
    "# Data for exploding gradients\n",
    "exploding_gradients = np.exp(layers)  # Exponentially increasing gradients\n",
    "\n",
    "# Vanishing Gradients Plot\n",
    "axes[0].plot(layers, vanishing_gradients, marker='o', label='Gradient Norm')\n",
    "axes[0].set_title(\"Vanishing Gradients\")\n",
    "axes[0].set_xlabel(\"Layer (from Output to Input)\")\n",
    "axes[0].set_ylabel(\"Gradient Norm\")\n",
    "axes[0].invert_xaxis()  # Simulate backward propagation (last layer to first)\n",
    "axes[0].grid(True)\n",
    "axes[0].legend()\n",
    "\n",
    "# Exploding Gradients Plot\n",
    "axes[1].plot(layers, exploding_gradients, marker='o', color='r', label='Gradient Norm')\n",
    "axes[1].set_title(\"Exploding Gradients\")\n",
    "axes[1].set_xlabel(\"Layer (from Output to Input)\")\n",
    "axes[1].set_ylabel(\"Gradient Norm\")\n",
    "axes[1].invert_xaxis()  # Simulate backward propagation (last layer to first)\n",
    "axes[1].grid(True)\n",
    "axes[1].legend()\n",
    "\n",
    "# Adjust layout and display\n",
    "plt.tight_layout()\n",
    "plt.show()"
   ]
  },
  {
   "cell_type": "code",
   "execution_count": null,
   "id": "2b0a4b2d-5f47-404c-bc8f-e16ef5fc04a9",
   "metadata": {},
   "outputs": [],
   "source": []
  }
 ],
 "metadata": {
  "kernelspec": {
   "display_name": "Python 3 (ipykernel)",
   "language": "python",
   "name": "python3"
  },
  "language_info": {
   "codemirror_mode": {
    "name": "ipython",
    "version": 3
   },
   "file_extension": ".py",
   "mimetype": "text/x-python",
   "name": "python",
   "nbconvert_exporter": "python",
   "pygments_lexer": "ipython3",
   "version": "3.12.4"
  }
 },
 "nbformat": 4,
 "nbformat_minor": 5
}
